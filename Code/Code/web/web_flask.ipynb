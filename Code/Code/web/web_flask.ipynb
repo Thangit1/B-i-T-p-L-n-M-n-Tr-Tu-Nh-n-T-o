{
 "cells": [
  {
   "cell_type": "code",
   "execution_count": 1,
   "metadata": {},
   "outputs": [
    {
     "name": "stderr",
     "output_type": "stream",
     "text": [
      "WARNING: This is a development server. Do not use it in a production deployment. Use a production WSGI server instead.\n",
      " * Running on http://localhost:8999\n",
      "Press CTRL+C to quit\n",
      "127.0.0.1 - - [28/Apr/2024 09:38:05] \"GET / HTTP/1.1\" 200 -\n",
      "127.0.0.1 - - [28/Apr/2024 09:38:05] \"GET /static/hotel.png HTTP/1.1\" 200 -\n",
      "127.0.0.1 - - [28/Apr/2024 09:38:05] \"GET /static/bg.jpg HTTP/1.1\" 200 -\n",
      "127.0.0.1 - - [28/Apr/2024 09:38:06] \"GET /favicon.ico HTTP/1.1\" 404 -\n"
     ]
    },
    {
     "name": "stdout",
     "output_type": "stream",
     "text": [
      "no_of_adults =  2\n",
      "no_of_children =  0\n",
      "no_of_weekend_nights =  2\n",
      "no_of_week_nights =  1\n",
      "type_of_meal_plan =  1\n",
      "required_car_parking_space =  0\n",
      "room_type_reserved =  1\n",
      "lead_time =  4\n",
      "arrival_year =  2024\n",
      "arrival_month =  4\n",
      "arrival_date =  27\n",
      "market_segment_type =  1\n",
      "repeated_guest =  0\n",
      "no_of_previous_cancellations =  0\n",
      "no_of_previous_bookings_not_canceled =  0\n",
      "avg_price_per_room =  100\n",
      "no_of_special_requests =  0\n",
      "df =  [['2', '0', '2', '1', '1', '0', '1', '4', '2024', '4', '27', '1', '0', '0', '0', '100', '0']]\n",
      "df[0] =  17\n"
     ]
    },
    {
     "name": "stderr",
     "output_type": "stream",
     "text": [
      "c:\\Users\\tanki\\miniconda3\\envs\\plotly\\lib\\site-packages\\sklearn\\base.py:318: UserWarning: Trying to unpickle estimator MinMaxScaler from version 1.0.2 when using version 1.2.2. This might lead to breaking code or invalid results. Use at your own risk. For more info please refer to:\n",
      "https://scikit-learn.org/stable/model_persistence.html#security-maintainability-limitations\n",
      "  warnings.warn(\n",
      "c:\\Users\\tanki\\miniconda3\\envs\\plotly\\lib\\site-packages\\sklearn\\base.py:318: UserWarning: Trying to unpickle estimator DecisionTreeClassifier from version 1.0.2 when using version 1.2.2. This might lead to breaking code or invalid results. Use at your own risk. For more info please refer to:\n",
      "https://scikit-learn.org/stable/model_persistence.html#security-maintainability-limitations\n",
      "  warnings.warn(\n",
      "c:\\Users\\tanki\\miniconda3\\envs\\plotly\\lib\\site-packages\\sklearn\\base.py:318: UserWarning: Trying to unpickle estimator RandomForestClassifier from version 1.0.2 when using version 1.2.2. This might lead to breaking code or invalid results. Use at your own risk. For more info please refer to:\n",
      "https://scikit-learn.org/stable/model_persistence.html#security-maintainability-limitations\n",
      "  warnings.warn(\n",
      "c:\\Users\\tanki\\miniconda3\\envs\\plotly\\lib\\site-packages\\sklearn\\base.py:318: UserWarning: Trying to unpickle estimator Pipeline from version 1.0.2 when using version 1.2.2. This might lead to breaking code or invalid results. Use at your own risk. For more info please refer to:\n",
      "https://scikit-learn.org/stable/model_persistence.html#security-maintainability-limitations\n",
      "  warnings.warn(\n",
      "c:\\Users\\tanki\\miniconda3\\envs\\plotly\\lib\\site-packages\\sklearn\\base.py:439: UserWarning: X does not have valid feature names, but MinMaxScaler was fitted with feature names\n",
      "  warnings.warn(\n",
      "127.0.0.1 - - [28/Apr/2024 09:39:03] \"GET /home?no_of_adults=2&no_of_children=0&no_of_weekend_nights=2&no_of_week_nights=1&type_of_meal_plan=1&required_car_parking_space=0&room_type_reserved=1&lead_time=4&arrival_year=2024&arrival_month=4&arrival_date=27&market_segment_type=1&repeated_guest=0&no_of_previous_cancellations=0&no_of_previous_bookings_not_canceled=0&avg_price_per_room=100&no_of_special_requests=0 HTTP/1.1\" 200 -\n",
      "127.0.0.1 - - [28/Apr/2024 09:39:03] \"GET /static/hotel.png HTTP/1.1\" 304 -\n"
     ]
    },
    {
     "name": "stdout",
     "output_type": "stream",
     "text": [
      "kq =  Not_Canceled\n"
     ]
    },
    {
     "name": "stderr",
     "output_type": "stream",
     "text": [
      "127.0.0.1 - - [28/Apr/2024 09:39:04] \"GET /static/bg.jpg HTTP/1.1\" 304 -\n"
     ]
    }
   ],
   "source": [
    "# pip install flask\n",
    "# pip install flask-cors\n",
    "from unittest import result\n",
    "from werkzeug.wrappers import Request, Response\n",
    "from flask import Flask, request, jsonify\n",
    "from flask import Flask, render_template, request\n",
    "from flask_cors import CORS, cross_origin\n",
    "import joblib\n",
    "\n",
    "# Khởi tạo Flask server backend\n",
    "app = Flask(__name__, template_folder='templates')\n",
    "\n",
    "# Apply flask CORS\n",
    "cors = CORS(app)\n",
    "\n",
    "# Khai báo route từ index.html\n",
    "\n",
    "@app.route('/')\n",
    "# @cross_origin()\n",
    "def home():\n",
    "    # Read file index.html and return\n",
    "    # return open('index.html', 'r', encoding = 'UTF-8').read()\n",
    "    return render_template('index.html')\n",
    "    \n",
    "@app.route('/home', methods=['GET'])\n",
    "# @cross_origin()\n",
    "def index():\n",
    "    # Lấy dữ liệu từ index.html\n",
    "    no_of_adults = request.args.get('no_of_adults')\n",
    "    no_of_children = request.args.get('no_of_children')\n",
    "    no_of_weekend_nights = request.args.get('no_of_weekend_nights')\n",
    "    no_of_week_nights = request.args.get('no_of_week_nights')\n",
    "    type_of_meal_plan = request.args.get('type_of_meal_plan')\n",
    "    required_car_parking_space = request.args.get('required_car_parking_space')\n",
    "    room_type_reserved = request.args.get('room_type_reserved')\n",
    "    lead_time = request.args.get('lead_time')\n",
    "    arrival_year = request.args.get('arrival_year')\n",
    "    arrival_month = request.args.get('arrival_month')\n",
    "    arrival_date = request.args.get('arrival_date')\n",
    "    market_segment_type = request.args.get('market_segment_type')\n",
    "    repeated_guest = request.args.get('repeated_guest')\n",
    "    no_of_previous_cancellations = request.args.get('no_of_previous_cancellations')\n",
    "    no_of_previous_bookings_not_canceled = request.args.get('no_of_previous_bookings_not_canceled')\n",
    "    avg_price_per_room = request.args.get('avg_price_per_room')\n",
    "    no_of_special_requests = request.args.get('no_of_special_requests')\n",
    "\n",
    "    print('no_of_adults = ', no_of_adults)\n",
    "    print('no_of_children = ', no_of_children)\n",
    "    print('no_of_weekend_nights = ', no_of_weekend_nights)\n",
    "    print('no_of_week_nights = ', no_of_week_nights)\n",
    "    print('type_of_meal_plan = ', type_of_meal_plan)\n",
    "    print('required_car_parking_space = ', required_car_parking_space)\n",
    "    print('room_type_reserved = ', room_type_reserved)\n",
    "    print('lead_time = ', lead_time)\n",
    "    print('arrival_year = ', arrival_year)\n",
    "    print('arrival_month = ', arrival_month)\n",
    "    print('arrival_date = ', arrival_date)\n",
    "    print('market_segment_type = ', market_segment_type)\n",
    "    print('repeated_guest = ', repeated_guest)\n",
    "    print('no_of_previous_cancellations = ', no_of_previous_cancellations)\n",
    "    print('no_of_previous_bookings_not_canceled = ', no_of_previous_bookings_not_canceled)\n",
    "    print('avg_price_per_room = ', avg_price_per_room)\n",
    "    print('no_of_special_requests = ', no_of_special_requests)\n",
    "    \n",
    "\n",
    "    # Tạo dataframe từ dữ liệu\n",
    "    # df = [[avg_price_per_room, no_of_adults, no_of_children, room_type_reserved, market_segment_type, no_of_special_requests, repeated_guest, no_of_previous_bookings_not_canceled, no_of_previous_cancellations]]\n",
    "    df = [[no_of_adults, no_of_children, no_of_weekend_nights, no_of_week_nights, type_of_meal_plan, required_car_parking_space, room_type_reserved, lead_time, arrival_year, arrival_month, arrival_date, market_segment_type, repeated_guest, no_of_previous_cancellations, no_of_previous_bookings_not_canceled, avg_price_per_room, no_of_special_requests]]\n",
    "    print('df = ', df)\n",
    "    print('df[0] = ', len(df[0]))\n",
    "    clf = joblib.load('model/model.pkl')\n",
    "    prediction = clf.predict(df)\n",
    "    print('kq = ', prediction[0])\n",
    "    return render_template('index.html', result = prediction[0], no_of_adults = no_of_adults, no_of_children = no_of_children, no_of_weekend_nights = no_of_weekend_nights, no_of_week_nights = no_of_week_nights, type_of_meal_plan = type_of_meal_plan, required_car_parking_space = required_car_parking_space, room_type_reserved = room_type_reserved, lead_time = lead_time, arrival_year = arrival_year, arrival_month = arrival_month, arrival_date = arrival_date, market_segment_type = market_segment_type, repeated_guest = repeated_guest, no_of_previous_cancellations = no_of_previous_cancellations, no_of_previous_bookings_not_canceled = no_of_previous_bookings_not_canceled, avg_price_per_room = avg_price_per_room, no_of_special_requests = no_of_special_requests)\n",
    "\n",
    "# Start Backend server\n",
    "if __name__ == '__main__':\n",
    "    # clf = joblib.load('model.pkl')\n",
    "    # app.run(host='0.0.0.0', port='9000', debug=True)\n",
    "    from werkzeug.serving import run_simple\n",
    "    run_simple('localhost', 8999, app)"
   ]
  },
  {
   "cell_type": "code",
   "execution_count": null,
   "metadata": {},
   "outputs": [],
   "source": []
  }
 ],
 "metadata": {
  "kernelspec": {
   "display_name": "base",
   "language": "python",
   "name": "python3"
  },
  "language_info": {
   "codemirror_mode": {
    "name": "ipython",
    "version": 3
   },
   "file_extension": ".py",
   "mimetype": "text/x-python",
   "name": "python",
   "nbconvert_exporter": "python",
   "pygments_lexer": "ipython3",
   "version": "3.9.19"
  },
  "orig_nbformat": 4,
  "vscode": {
   "interpreter": {
    "hash": "8d1e2092fb50c4060ecf1460a35bde6f57b606b1fa40c46d456e8af46452dfd8"
   }
  }
 },
 "nbformat": 4,
 "nbformat_minor": 2
}
